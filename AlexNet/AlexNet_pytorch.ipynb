{
  "cells": [
    {
      "cell_type": "code",
      "source": [
        "from google.colab import drive\n",
        "drive.mount('/content/drive')"
      ],
      "metadata": {
        "colab": {
          "base_uri": "https://localhost:8080/"
        },
        "id": "vwt2I9m2u53v",
        "outputId": "7baea286-1d1e-45a8-bfbf-e874b5f0b1ac"
      },
      "execution_count": 1,
      "outputs": [
        {
          "output_type": "stream",
          "name": "stdout",
          "text": [
            "Drive already mounted at /content/drive; to attempt to forcibly remount, call drive.mount(\"/content/drive\", force_remount=True).\n"
          ]
        }
      ]
    },
    {
      "cell_type": "markdown",
      "metadata": {
        "id": "N7PXHqGmu0PD"
      },
      "source": [
        "# Import"
      ]
    },
    {
      "cell_type": "code",
      "execution_count": 2,
      "metadata": {
        "colab": {
          "base_uri": "https://localhost:8080/"
        },
        "id": "o60namCZu0PF",
        "outputId": "186ed233-e063-46d2-8d89-4afc5ea95849"
      },
      "outputs": [
        {
          "output_type": "stream",
          "name": "stdout",
          "text": [
            "cuda\n"
          ]
        }
      ],
      "source": [
        "# torch package\n",
        "import torch\n",
        "import torch.nn as nn\n",
        "import torch.optim as optim\n",
        "import torch.nn.functional as F\n",
        "\n",
        "\n",
        "# dataset packagea\n",
        "from torch.utils.data import Dataset, DataLoader, random_split\n",
        "from torchvision import datasets, transforms\n",
        "from sklearn.model_selection import train_test_split\n",
        "\n",
        "# metrcis\n",
        "from sklearn.metrics import accuracy_score, classification_report\n",
        "\n",
        "# ETC\n",
        "from tqdm import tqdm\n",
        "import numpy as np\n",
        "import matplotlib.pyplot as plt\n",
        "from IPython.display import clear_output\n",
        "\n",
        "device = torch.device(\"cuda\" if torch.cuda.is_available() else \"cpu\")\n",
        "print(device)"
      ]
    },
    {
      "cell_type": "markdown",
      "metadata": {
        "id": "j9fi_xGgu0PH"
      },
      "source": [
        "# AlexNet-Model"
      ]
    },
    {
      "cell_type": "code",
      "execution_count": 3,
      "metadata": {
        "id": "4lJ6-oA_u0PH"
      },
      "outputs": [],
      "source": [
        "class AlexNet(nn.Module):\n",
        "    def __init__(self):\n",
        "        super().__init__()\n",
        "        '''\n",
        "        [(H_in + 2P - K)/S] + 1\n",
        "        '''\n",
        "\n",
        "        self.conv_layer1 = nn.Sequential(\\\n",
        "            nn.Conv2d(in_channels=3, out_channels=96, kernel_size=11, stride=4, padding=0),\n",
        "            nn.BatchNorm2d(96),\n",
        "            nn.ReLU(),\n",
        "            nn.MaxPool2d(kernel_size=3, stride=2, padding=0))\n",
        "\n",
        "        self.conv_layer2 = nn.Sequential(\\\n",
        "            nn.Conv2d(in_channels=96, out_channels=256, kernel_size=5, stride=1, padding=2),\n",
        "            nn.BatchNorm2d(256),\n",
        "            nn.ReLU(),\n",
        "            nn.MaxPool2d(kernel_size=3, stride=2, padding=0))\n",
        "\n",
        "        self.conv_layer3 = nn.Sequential(\\\n",
        "            nn.Conv2d(in_channels=256, out_channels=384, kernel_size=3, stride=1, padding=1),\n",
        "            nn.BatchNorm2d(384),\n",
        "            nn.ReLU())\n",
        "\n",
        "        self.conv_layer4 = nn.Sequential(\\\n",
        "            nn.Conv2d(in_channels=384, out_channels=384, kernel_size=3, stride=1, padding=1),\n",
        "            nn.BatchNorm2d(384),\n",
        "            nn.ReLU())\n",
        "\n",
        "        self.conv_layer5 = nn.Sequential(\\\n",
        "            nn.Conv2d(in_channels=384, out_channels=256, kernel_size=3, stride=1, padding=1),\n",
        "            nn.BatchNorm2d(256),\n",
        "            nn.ReLU())\n",
        "\n",
        "        self.dense_layer = nn.Sequential(\\\n",
        "            nn.Linear(256 * 13 * 13, 4096),\n",
        "            nn.Dropout(0.5),\n",
        "            nn.Linear(4096, 4096),\n",
        "            nn.Dropout(0.5),\n",
        "            nn.Linear(4096, 10)) # 원래는 ImageNet data에 맞게 class가 1000이지만 용량 이슈로 인해 CIFAR10을 사용해서 output을 10으로 설정.\n",
        "\n",
        "\n",
        "    def forward(self, x):\n",
        "        # (batch_size, 3, 227, 227)\n",
        "        out = self.conv_layer1(x)\n",
        "        # (batch_size, 96, 27, 27)\n",
        "        out = self.conv_layer2(out)\n",
        "        # (batch_size, 256, 13, 13)\n",
        "        out = self.conv_layer3(out)\n",
        "        # (batch_size, 384, 13, 13)\n",
        "        out = self.conv_layer4(out)\n",
        "        # (batch_size, 384, 13, 13)\n",
        "        out = self.conv_layer5(out)\n",
        "        # (batch_size, 256, 13, 13)\n",
        "        out = out.view(out.size(0), -1)\n",
        "        # (batch_size, 256 * 13 * 13)\n",
        "        alexnet_out = self.dense_layer(out)\n",
        "        # (batch_size, 10)\n",
        "\n",
        "        return alexnet_out"
      ]
    },
    {
      "cell_type": "markdown",
      "metadata": {
        "id": "E9zG-ca0u0PI"
      },
      "source": [
        "# Train"
      ]
    },
    {
      "cell_type": "code",
      "execution_count": 4,
      "metadata": {
        "id": "CO7n_Fp9u0PI"
      },
      "outputs": [],
      "source": [
        "def train(model, config, train, valid, optimizer=False, loss=False):\n",
        "    train_loss_history = []\n",
        "    valid_loss_history = []\n",
        "\n",
        "    optimizer = optim.Adam(model.parameters(), lr=config.learning_rate)\n",
        "    loss_function = nn.CrossEntropyLoss()\n",
        "\n",
        "\n",
        "    for i in range(config.epochs):\n",
        "\n",
        "        train_loss_ = 0\n",
        "        model.train()\n",
        "        with torch.enable_grad():\n",
        "            for feature, label in train:\n",
        "                feature, label = feature.to(config.device), label.to(config.device)\n",
        "                optimizer.zero_grad()\n",
        "                outputs = model(feature)\n",
        "\n",
        "                loss = loss_function(outputs, label)\n",
        "\n",
        "                loss.backward()\n",
        "                optimizer.step()\n",
        "\n",
        "                train_loss_ += loss.item()\n",
        "\n",
        "        train_loss_ /= config.batch_size\n",
        "        train_loss_history.append(train_loss_)\n",
        "\n",
        "\n",
        "\n",
        "        valid_loss_ = 0\n",
        "        model.eval()\n",
        "        with torch.no_grad():\n",
        "            for feature, label in valid:\n",
        "                feature, label = feature.to(config.device), label.to(config.device)\n",
        "                # outputs = model(feature.view(config.batch_size, 1, 28, 28))\n",
        "                outputs = model(feature)\n",
        "\n",
        "                loss = loss_function(outputs, label)\n",
        "\n",
        "                valid_loss_ += loss.item()\n",
        "\n",
        "        valid_loss_ /= config.batch_size\n",
        "        valid_loss_history.append(valid_loss_)\n",
        "\n",
        "        clear_output(wait=True) # 주피터 셀 초기화\n",
        "\n",
        "        history_print = []\n",
        "        # if (i+1)%int((config.epochs)*0.1)==0:\n",
        "        log = f\"epoch : {i+1} Loss(train) : {train_loss_history[-1]:.3f}  Loss(valid) : {valid_loss_history[-1]:.3f}\"\n",
        "        history_print.append(log)\n",
        "        for log in history_print[-5:-1]:\n",
        "            print(log)\n",
        "\n",
        "        plt.plot(train_loss_history, label='Training loss')\n",
        "        plt.plot(valid_loss_history, label='Validation loss')\n",
        "        plt.ylim(0, 5)\n",
        "        plt.legend()\n",
        "        plt.show()\n",
        "\n",
        "\n",
        "\n",
        "    print(\"=\"*40)\n",
        "    print(\"Training loss: \", train_loss_history[-1])\n",
        "    print(\"Validation loss: \", valid_loss_history[-1])\n",
        "    print(\"=\"*40)"
      ]
    },
    {
      "cell_type": "markdown",
      "metadata": {
        "id": "In63VzZWu0PI"
      },
      "source": [
        "# Predict"
      ]
    },
    {
      "cell_type": "code",
      "execution_count": 20,
      "metadata": {
        "id": "LrHZwvEnu0PJ"
      },
      "outputs": [],
      "source": [
        "def predict_evaluate(model, config, test):\n",
        "    model.eval()\n",
        "    acc = []\n",
        "\n",
        "    y_pred = torch.Tensor()\n",
        "    y_test = torch.Tensor()\n",
        "    with torch.no_grad():\n",
        "        for feature, label in test:\n",
        "            feature, label = feature.to(config.device), label.to(config.device)\n",
        "            outputs = model(feature)\n",
        "            outputs = outputs.cpu()\n",
        "            _, outputs = torch.max(outputs, 1)\n",
        "\n",
        "            label = label.cpu()\n",
        "\n",
        "            acc.append(accuracy_score(label, outputs))\n",
        "            y_pred = torch.cat((y_pred, outputs), dim=0)\n",
        "            y_test = torch.cat((y_test, label), dim=0)\n",
        "\n",
        "\n",
        "    print(f\"Accuracy: {(sum(acc)/len(acc)):.3f}\")\n",
        "\n",
        "    return y_test, y_pred"
      ]
    },
    {
      "cell_type": "markdown",
      "metadata": {
        "id": "ntilJh-8u0PJ"
      },
      "source": [
        "# Hyperparameter config"
      ]
    },
    {
      "cell_type": "code",
      "execution_count": 6,
      "metadata": {
        "id": "0xU9GZWHu0PJ"
      },
      "outputs": [],
      "source": [
        "class config():\n",
        "    def __init__(self, device, learning_rate=0.001, epochs=100, batch_size = 128):\n",
        "        self.learning_rate = learning_rate\n",
        "\n",
        "        self.batch_size = batch_size\n",
        "        self.epochs = epochs\n",
        "\n",
        "        self.device = device"
      ]
    },
    {
      "cell_type": "markdown",
      "metadata": {
        "id": "DbsSeR6gu0PJ"
      },
      "source": [
        "# Dataset"
      ]
    },
    {
      "cell_type": "code",
      "execution_count": 7,
      "metadata": {
        "id": "NwKaKQauu0PJ"
      },
      "outputs": [],
      "source": [
        "batch_size = 2**8"
      ]
    },
    {
      "cell_type": "code",
      "execution_count": 8,
      "metadata": {
        "colab": {
          "base_uri": "https://localhost:8080/"
        },
        "id": "SthACUylu0PJ",
        "outputId": "bb746d6a-fd1d-41e2-f6f9-48c0e8a7d0d0"
      },
      "outputs": [
        {
          "output_type": "stream",
          "name": "stdout",
          "text": [
            "Files already downloaded and verified\n",
            "Files already downloaded and verified\n"
          ]
        }
      ],
      "source": [
        "transform = transforms.Compose([\n",
        "    transforms.Resize((227, 227)),\n",
        "    transforms.ToTensor(),\n",
        "    transforms.Normalize((0.5,), (0.5,))\n",
        "])\n",
        "\n",
        "\n",
        "train_dataset = datasets.CIFAR10(root='./data', train=True, download=True, transform=transform)\n",
        "test_dataset = datasets.CIFAR10(root='./data', train=False, download=True, transform=transform)\n",
        "\n",
        "train_size = int(0.8 * len(train_dataset))\n",
        "valid_size = len(train_dataset) - train_size\n",
        "\n",
        "train_dataset, valid_dataset = random_split(train_dataset, [train_size, valid_size])\n",
        "\n",
        "train_loader = torch.utils.data.DataLoader(train_dataset, batch_size=128, shuffle=True) # 48000\n",
        "valid_loader = torch.utils.data.DataLoader(valid_dataset, batch_size=128, shuffle=True) # 12000\n",
        "test_loader = torch.utils.data.DataLoader(test_dataset, batch_size=128, shuffle=False)  # 10000"
      ]
    },
    {
      "cell_type": "markdown",
      "metadata": {
        "id": "nTYIm5UZu0PK"
      },
      "source": [
        "# Model"
      ]
    },
    {
      "cell_type": "code",
      "execution_count": 9,
      "metadata": {
        "id": "B3iQuYmou0PK"
      },
      "outputs": [],
      "source": [
        "train_config = config(device = device,\n",
        "                      learning_rate=0.001,\n",
        "                      epochs = 30,\n",
        "                      batch_size = batch_size)"
      ]
    },
    {
      "cell_type": "code",
      "execution_count": 10,
      "metadata": {
        "id": "UDmHIShhu0PK"
      },
      "outputs": [],
      "source": [
        "AlexNet = AlexNet().to(device)"
      ]
    },
    {
      "cell_type": "code",
      "execution_count": 11,
      "metadata": {
        "colab": {
          "base_uri": "https://localhost:8080/",
          "height": 508
        },
        "id": "RD_j1nequ0PK",
        "outputId": "41617201-f291-409c-fdb2-8bb5a2f5e7e3"
      },
      "outputs": [
        {
          "output_type": "display_data",
          "data": {
            "text/plain": [
              "<Figure size 640x480 with 1 Axes>"
            ],
            "image/png": "[encoded data removed]"
          },
          "metadata": {}
        },
        {
          "output_type": "stream",
          "name": "stdout",
          "text": [
            "========================================\n",
            "Training loss:  0.2427960821223678\n",
            "Validation loss:  0.38997811102308333\n",
            "========================================\n"
          ]
        }
      ],
      "source": [
        "train(AlexNet, train_config, train_loader, valid_loader)"
      ]
    },
    {
      "cell_type": "markdown",
      "metadata": {
        "id": "MCepRGW0u0PK"
      },
      "source": [
        "# Evaluation"
      ]
    },
    {
      "cell_type": "code",
      "execution_count": 21,
      "metadata": {
        "id": "lF1sGASju0PK",
        "colab": {
          "base_uri": "https://localhost:8080/"
        },
        "outputId": "2ba4ad88-6b97-4a0e-cc78-03b4c187e1ac"
      },
      "outputs": [
        {
          "output_type": "stream",
          "name": "stdout",
          "text": [
            "Accuracy: 0.756\n"
          ]
        }
      ],
      "source": [
        "y_test, y_pred = predict_evaluate(AlexNet, train_config, test_loader)"
      ]
    },
    {
      "cell_type": "code",
      "source": [
        "y_test"
      ],
      "metadata": {
        "id": "QVj642oAXZkg",
        "colab": {
          "base_uri": "https://localhost:8080/"
        },
        "outputId": "9e2b448e-848e-4069-8e31-cc93ff5849bb"
      },
      "execution_count": 22,
      "outputs": [
        {
          "output_type": "execute_result",
          "data": {
            "text/plain": [
              "tensor([3., 8., 8.,  ..., 5., 1., 7.])"
            ]
          },
          "metadata": {},
          "execution_count": 22
        }
      ]
    },
    {
      "cell_type": "code",
      "source": [
        "y_pred"
      ],
      "metadata": {
        "id": "9m1kxmFiXcEt",
        "colab": {
          "base_uri": "https://localhost:8080/"
        },
        "outputId": "4407342e-8425-413a-c8df-815339d0236d"
      },
      "execution_count": 23,
      "outputs": [
        {
          "output_type": "execute_result",
          "data": {
            "text/plain": [
              "tensor([5., 8., 8.,  ..., 5., 1., 7.])"
            ]
          },
          "metadata": {},
          "execution_count": 23
        }
      ]
    },
    {
      "cell_type": "code",
      "execution_count": 24,
      "metadata": {
        "id": "vwpJ8L5mu0PK",
        "colab": {
          "base_uri": "https://localhost:8080/"
        },
        "outputId": "9e536f69-0249-44c8-830a-1cc67fb0b600"
      },
      "outputs": [
        {
          "output_type": "stream",
          "name": "stdout",
          "text": [
            "              precision    recall  f1-score   support\n",
            "\n",
            "         0.0       0.83      0.73      0.78      1000\n",
            "         1.0       0.86      0.84      0.85      1000\n",
            "         2.0       0.71      0.60      0.65      1000\n",
            "         3.0       0.58      0.57      0.58      1000\n",
            "         4.0       0.70      0.77      0.73      1000\n",
            "         5.0       0.69      0.68      0.68      1000\n",
            "         6.0       0.73      0.87      0.79      1000\n",
            "         7.0       0.78      0.81      0.80      1000\n",
            "         8.0       0.84      0.85      0.84      1000\n",
            "         9.0       0.86      0.81      0.83      1000\n",
            "\n",
            "    accuracy                           0.75     10000\n",
            "   macro avg       0.76      0.75      0.75     10000\n",
            "weighted avg       0.76      0.75      0.75     10000\n",
            "\n"
          ]
        }
      ],
      "source": [
        "print(classification_report(y_true=y_test, y_pred=y_pred))"
      ]
    },
    {
      "cell_type": "code",
      "execution_count": null,
      "metadata": {
        "id": "J3iHy6JTu0PK"
      },
      "outputs": [],
      "source": []
    }
  ],
  "metadata": {
    "kernelspec": {
      "display_name": "Python 3",
      "name": "python3"
    },
    "language_info": {
      "codemirror_mode": {
        "name": "ipython",
        "version": 3
      },
      "file_extension": ".py",
      "mimetype": "text/x-python",
      "name": "python",
      "nbconvert_exporter": "python",
      "pygments_lexer": "ipython3",
      "version": "3.11.9"
    },
    "colab": {
      "provenance": [],
      "toc_visible": true,
      "machine_shape": "hm",
      "gpuType": "A100"
    },
    "accelerator": "GPU"
  },
  "nbformat": 4,
  "nbformat_minor": 0
}